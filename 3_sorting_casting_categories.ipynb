{
 "cells": [
  {
   "cell_type": "markdown",
   "id": "13bb90a8",
   "metadata": {},
   "source": [
    "# Sorting, Casting, and Categories"
   ]
  },
  {
   "cell_type": "markdown",
   "id": "aaf61bfe",
   "metadata": {},
   "source": [
    "In this notebook, we will cover sorting operations as well as categorical data. We will also learn how to use apply functions to perform more custom operations to Pandas. \n",
    "\n",
    "Let's import `pandas` and then declare this tiny weatherset dataframe to practice with."
   ]
  },
  {
   "cell_type": "code",
   "execution_count": null,
   "id": "ebba5aea",
   "metadata": {},
   "outputs": [],
   "source": [
    "import pandas as pd\n",
    "\n",
    "df = pd.DataFrame({\n",
    "    \"record_id\" : ['DCMXP87EDE', 'ZMIFM3HX9G', 'HIVVXBAPS2', 'U1AA66UDES', 'B20KL5PW3L', 'FIZLY34KSQ'],\n",
    "    \"rain_inches\" : [1.1, 0.0, 0.0, 2.4, 11.2, 3.2],\n",
    "    \"tornado\" : [0,1,0,0,0,0],\n",
    "    \"lightning\" :[0,1,1,1,0,0],\n",
    "    \"wind_speed_mph\" : [3.1, 143.0, 12.2, 8.1, 5.0, 19.0],\n",
    "    \"severity\" : ['CLEAR', 'SEVERE', 'MINOR', 'MINOR', 'MAJOR', 'CLEAR']\n",
    "})\n",
    "\n",
    "df"
   ]
  },
  {
   "cell_type": "markdown",
   "id": "ab39500d",
   "metadata": {},
   "source": [
    "## Data Types and Casting"
   ]
  },
  {
   "cell_type": "markdown",
   "id": "425f4e27",
   "metadata": {},
   "source": [
    "As we talk more about data cleaning, it might be a good time to talk about data types and choosing them carefully. Some basic pandas datatypes with examples are declared below. These are the datatypes that are part of NumPy as well\n"
   ]
  },
  {
   "cell_type": "code",
   "execution_count": null,
   "id": "1a81a0e6",
   "metadata": {
    "scrolled": false
   },
   "outputs": [],
   "source": [
    "df_types = pd.DataFrame({'float': [1.2],\n",
    "              'int': [3],\n",
    "              'datetime': [pd.Timestamp('20230130')],\n",
    "              'bool' : [True],\n",
    "              'time_delta' : [pd.Timestamp('20230130') - pd.Timestamp('20230127')],\n",
    "              'string': ['hello']\n",
    "            })\n",
    "df_types"
   ]
  },
  {
   "cell_type": "markdown",
   "id": "546d71ae",
   "metadata": {},
   "source": [
    "You can view the datatypes for a given dataframe using the `dtypes` property. "
   ]
  },
  {
   "cell_type": "code",
   "execution_count": null,
   "id": "fcd0ad99",
   "metadata": {},
   "outputs": [],
   "source": [
    "df_types.dtypes"
   ]
  },
  {
   "cell_type": "markdown",
   "id": "78be4c1f",
   "metadata": {},
   "source": [
    "> Note that Pandas does extend with additional datatypes. A full list of supported datatypes [can be found here](https://pandas.pydata.org/docs/user_guide/basics.html#dtypes)."
   ]
  },
  {
   "cell_type": "markdown",
   "id": "5029351e",
   "metadata": {},
   "source": [
    "Now let's turn our attention back to the small weather dataset. "
   ]
  },
  {
   "cell_type": "code",
   "execution_count": null,
   "id": "87ce405a",
   "metadata": {},
   "outputs": [],
   "source": [
    "df"
   ]
  },
  {
   "cell_type": "markdown",
   "id": "287d0cdf",
   "metadata": {},
   "source": [
    "Let's observe the datatypes."
   ]
  },
  {
   "cell_type": "code",
   "execution_count": null,
   "id": "1748a67c",
   "metadata": {},
   "outputs": [],
   "source": [
    "df.dtypes"
   ]
  },
  {
   "cell_type": "markdown",
   "id": "11953879",
   "metadata": {},
   "source": [
    "One of the most basic operations in data cleaning is casting. You can use the `astype()` function to coerce a given column to another data type. For example, the `tornado` and `lightning` columns are only 1's and 0's indicating they are intended to do boolean values (True=1, False=0). We can cast them to booleans here."
   ]
  },
  {
   "cell_type": "code",
   "execution_count": null,
   "id": "4bc5215c",
   "metadata": {
    "scrolled": true
   },
   "outputs": [],
   "source": [
    "df['tornado'] = df['tornado'].astype('bool')\n",
    "df['lightning'] = df['lightning'].astype('bool')\n",
    "\n",
    "df"
   ]
  },
  {
   "cell_type": "markdown",
   "id": "577abd4a",
   "metadata": {},
   "source": [
    "And sure enough, you will see the datatypes will have changed to `bool` for those two columns."
   ]
  },
  {
   "cell_type": "code",
   "execution_count": null,
   "id": "5ec11e2d",
   "metadata": {
    "scrolled": false
   },
   "outputs": [],
   "source": [
    "df.dtypes"
   ]
  },
  {
   "cell_type": "markdown",
   "id": "f632ee25",
   "metadata": {},
   "source": [
    "## Sorting Values"
   ]
  },
  {
   "cell_type": "markdown",
   "id": "989a964d",
   "metadata": {},
   "source": [
    "In Pandas, you can sort data along a row or column by specifying its axis in the `sort_values()` function. Below, we sort ascending first by the `lightning` field followed by the `rain_inches` field. "
   ]
  },
  {
   "cell_type": "code",
   "execution_count": null,
   "id": "731dfff3",
   "metadata": {},
   "outputs": [],
   "source": [
    "df.sort_values(by=[\"lightning\",\"rain_inches\"])"
   ]
  },
  {
   "cell_type": "markdown",
   "id": "fea6fec1",
   "metadata": {},
   "source": [
    "If I want different sort behaviors for each of the columns, where some are ascending while others are descending, pass a boolean list to the `ascending` parameter. Below we set `lightning` to be descending so `True` records rise to the top, while the `rain_inches` is ascending. "
   ]
  },
  {
   "cell_type": "code",
   "execution_count": null,
   "id": "5b0839af",
   "metadata": {
    "scrolled": true
   },
   "outputs": [],
   "source": [
    "df.sort_values(by=[\"lightning\",\"rain_inches\"],ascending=[False,True])"
   ]
  },
  {
   "cell_type": "markdown",
   "id": "1d1e5584",
   "metadata": {},
   "source": [
    "> When using the sort methods, remember to add the `inplace=True` parameter if you want to replace the existing dataframe with the sorted one. "
   ]
  },
  {
   "cell_type": "markdown",
   "id": "c7454090",
   "metadata": {},
   "source": [
    "## Sorting Index"
   ]
  },
  {
   "cell_type": "markdown",
   "id": "6054bae2",
   "metadata": {},
   "source": [
    "Let's demonstrate how you can sort on an index. Let's first set the index to use the `record_id` for the rows"
   ]
  },
  {
   "cell_type": "code",
   "execution_count": null,
   "id": "8dcbe75a",
   "metadata": {},
   "outputs": [],
   "source": [
    "df.set_index('record_id', inplace=True)\n",
    "\n",
    "df"
   ]
  },
  {
   "cell_type": "markdown",
   "id": "0b803849",
   "metadata": {},
   "source": [
    "Now when we sort on the rows (using `axis=0`) notice we now alphabetically sort on the the `record_id` as the index. "
   ]
  },
  {
   "cell_type": "code",
   "execution_count": null,
   "id": "b064c3b9",
   "metadata": {},
   "outputs": [],
   "source": [
    "df.sort_index(axis=0)"
   ]
  },
  {
   "cell_type": "markdown",
   "id": "ffc6734d",
   "metadata": {},
   "source": [
    "This may not seem super interesting as we could have also sorted `record_id` as a column. But now consider that if we set `axis=1` in `sort_index()`, we can now sort the columns!"
   ]
  },
  {
   "cell_type": "code",
   "execution_count": null,
   "id": "dd3ab9f7",
   "metadata": {},
   "outputs": [],
   "source": [
    "df.sort_index(axis=1)"
   ]
  },
  {
   "cell_type": "markdown",
   "id": "16b2bef4",
   "metadata": {},
   "source": [
    "So as you can imagine that is useful. Note that since the `record_id` was turned into an index for the rows, it is not sorted with the rest of the columns and remains to the right of the dataframe. \n",
    "\n",
    "> When using the sort methods, remember to add the `inplace=True` parameter if you want to replace the existing dataframe with the sorted one. "
   ]
  },
  {
   "cell_type": "markdown",
   "id": "8458c726",
   "metadata": {},
   "source": [
    "## Categories"
   ]
  },
  {
   "cell_type": "markdown",
   "id": "283906e8",
   "metadata": {},
   "source": [
    "At times, there are going to be columns in a dataframe that only allow a few values. When these values are strings, it becomes all the more important to consider converting them into a category type. Behind-the-scenes, this will improve the performance of the dataframe and eliminate redundancy due to duplicate strings. \n",
    "\n",
    "In our weather dataset, note the `severity` column. Let's say the only possible values for it are \"CLEAR\", \"MINOR\", \"MAJOR\", and \"SEVERE.\" Rather than store these as strings, we can turn them explicitly into categories.\n",
    "\n",
    "First, we can create a new `CategoricalDType` and specify the expected \"categories\" in a list. If we want the categories to have a notion of ordering, we can specify `ordered=True` and those labels in that order will become the hierarchy. In ascending order, \"CLEAR\" is before \"MINOR,\" then \"MINOR\" is before \"MAJOR\", and so on... \n"
   ]
  },
  {
   "cell_type": "code",
   "execution_count": null,
   "id": "eb25603d",
   "metadata": {},
   "outputs": [],
   "source": [
    "cat_type = pd.CategoricalDtype(categories=[\"CLEAR\", \"MINOR\", \"MAJOR\", \"SEVERE\"], ordered=True)"
   ]
  },
  {
   "cell_type": "markdown",
   "id": "dac1a43f",
   "metadata": {},
   "source": [
    "We can then pass that instance of `CategoricalDType` to the `astype()` function on a dataframe, and replace that column with the categorized `severity`. "
   ]
  },
  {
   "cell_type": "code",
   "execution_count": null,
   "id": "6ff0e1b8",
   "metadata": {},
   "outputs": [],
   "source": [
    "df[\"severity\"] = df[\"severity\"].astype(cat_type)\n",
    "\n",
    "df"
   ]
  },
  {
   "cell_type": "markdown",
   "id": "bad31594",
   "metadata": {},
   "source": [
    "Sure enough, if you inspect the datatypes of the dataframe the `severity` column is now a `category` type. This will be much more efficient to work with."
   ]
  },
  {
   "cell_type": "code",
   "execution_count": null,
   "id": "1cb67208",
   "metadata": {},
   "outputs": [],
   "source": [
    "df.dtypes"
   ]
  },
  {
   "cell_type": "markdown",
   "id": "192c936c",
   "metadata": {},
   "source": [
    "Note that if you apply a categorization on a column that has values not mapping to any category, then those will become `NaN` values. \n",
    "\n",
    "Finally, note that when you sort on the `severity` column that it will no longer alphabetically sort but rather on the arbitrary sort order you defined on the `CategoricalDtype`. This is proven by `MINOR` coming before the `MAJOR`. "
   ]
  },
  {
   "cell_type": "code",
   "execution_count": null,
   "id": "cbf4ff0f",
   "metadata": {
    "scrolled": true
   },
   "outputs": [],
   "source": [
    "df.sort_values(by=[\"severity\"])"
   ]
  },
  {
   "cell_type": "markdown",
   "id": "b2e2f4b1",
   "metadata": {},
   "source": [
    "# Using apply() and applymap()"
   ]
  },
  {
   "cell_type": "markdown",
   "id": "c3128a12",
   "metadata": {},
   "source": [
    "Let's say you want to categorize wind speeds so you create this Python function. "
   ]
  },
  {
   "cell_type": "code",
   "execution_count": null,
   "id": "0fe46d2a",
   "metadata": {
    "scrolled": true
   },
   "outputs": [],
   "source": [
    "def map_wind_speed(x): \n",
    "    if x >= 60: \n",
    "        return 'DANGEROUS'\n",
    "    elif x >= 30: \n",
    "        return 'HIGH'\n",
    "    elif x >= 15:\n",
    "        return 'MODERATE'\n",
    "    else:\n",
    "        return 'LOW'\n",
    "    "
   ]
  },
  {
   "cell_type": "markdown",
   "id": "cba419de",
   "metadata": {},
   "source": [
    "How can you apply this to the `wind_speed_mph` column and create a new column out of it? You can use the `apply()` function "
   ]
  },
  {
   "cell_type": "code",
   "execution_count": null,
   "id": "8acdd815",
   "metadata": {
    "scrolled": true
   },
   "outputs": [],
   "source": [
    "df['wind_speed_mph'].apply(map_wind_speed)"
   ]
  },
  {
   "cell_type": "markdown",
   "id": "0b4aa6fa",
   "metadata": {},
   "source": [
    "You could then append this as a new column as a wind_speed_category. "
   ]
  },
  {
   "cell_type": "code",
   "execution_count": null,
   "id": "8d3e884f",
   "metadata": {},
   "outputs": [],
   "source": [
    "df[\"wind_speed_cat\"] = df['wind_speed_mph'].apply(map_wind_speed)\n",
    "\n",
    "df"
   ]
  },
  {
   "cell_type": "markdown",
   "id": "089e2f9b",
   "metadata": {},
   "source": [
    "## Exercise"
   ]
  },
  {
   "cell_type": "markdown",
   "id": "9a0bf831",
   "metadata": {},
   "source": [
    "Take the weather dataframe we just made above and make the `wind_speed_cat` (which current is stored as string objects) into a category type. Set it so the ordering ascending goes `LOW`, `MODERATE`, `HIGH`, then `DANGEROUS`. Then sort on that column descending."
   ]
  },
  {
   "cell_type": "code",
   "execution_count": null,
   "id": "8ddc435e",
   "metadata": {},
   "outputs": [],
   "source": [
    "wind_cat_type = ?\n",
    "\n",
    "df[\"wind_speed_cat\"] = df['wind_speed_cat'].astype(?)\n",
    "\n",
    "df.sort_values(by=?,ascending=?, inplace=True)\n",
    "df"
   ]
  },
  {
   "cell_type": "markdown",
   "id": "dfd73ed0",
   "metadata": {},
   "source": [
    "### SCROLL DOWN FOR ANSWER\n",
    "|<br>\n",
    "|<br>\n",
    "|<br>\n",
    "|<br>\n",
    "|<br>\n",
    "|<br>\n",
    "|<br>\n",
    "|<br>\n",
    "|<br>\n",
    "|<br>\n",
    "|<br>\n",
    "|<br>\n",
    "|<br>\n",
    "|<br>\n",
    "|<br>\n",
    "|<br>\n",
    "|<br>\n",
    "|<br>\n",
    "|<br>\n",
    "|<br>\n",
    "|<br>\n",
    "|<br>\n",
    "|<br>\n",
    "v "
   ]
  },
  {
   "cell_type": "code",
   "execution_count": null,
   "id": "b8c864b3",
   "metadata": {},
   "outputs": [],
   "source": [
    "wind_cat_type = pd.CategoricalDtype(categories=[\"LOW\", \"MODERATE\", \"HIGH\", \"DANGEROUS\"], ordered=True)\n",
    "\n",
    "df[\"wind_speed_cat\"] = df['wind_speed_cat'].astype(wind_cat_type)\n",
    "\n",
    "df.sort_values(by=[\"wind_speed_cat\"],ascending=[False], inplace=True)\n",
    "df"
   ]
  }
 ],
 "metadata": {
  "kernelspec": {
   "display_name": "Python 3 (ipykernel)",
   "language": "python",
   "name": "python3"
  },
  "language_info": {
   "codemirror_mode": {
    "name": "ipython",
    "version": 3
   },
   "file_extension": ".py",
   "mimetype": "text/x-python",
   "name": "python",
   "nbconvert_exporter": "python",
   "pygments_lexer": "ipython3",
   "version": "3.9.7"
  }
 },
 "nbformat": 4,
 "nbformat_minor": 5
}
